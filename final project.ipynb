{
 "cells": [
  {
   "cell_type": "code",
   "execution_count": 1,
   "id": "feb7ea47",
   "metadata": {},
   "outputs": [],
   "source": [
    "import selenium\n",
    "import pandas as pd\n",
    "import time\n",
    "from bs4 import BeautifulSoup\n",
    "from selenium import webdriver\n",
    "from selenium.common.exceptions import StaleElementReferenceException, NoSuchElementException\n",
    "import requests\n",
    "from selenium.webdriver.support.ui import WebDriverWait\n",
    "from selenium.webdriver.support import expected_conditions as EC\n",
    "from selenium.webdriver.common.by import By\n",
    "from selenium import webdriver\n",
    "from selenium.webdriver.common.by import By\n",
    "from selenium.webdriver.support.ui import WebDriverWait\n",
    "from selenium.webdriver.support import expected_conditions as EC\n",
    "import time"
   ]
  },
  {
   "cell_type": "code",
   "execution_count": 2,
   "id": "ffdc3cbf",
   "metadata": {},
   "outputs": [],
   "source": [
    "driver = webdriver.Chrome()"
   ]
  },
  {
   "cell_type": "code",
   "execution_count": 4,
   "id": "bd1770dc",
   "metadata": {},
   "outputs": [],
   "source": [
    "driver.get(\"https://www.olx.in/\")"
   ]
  },
  {
   "cell_type": "code",
   "execution_count": 5,
   "id": "58d4ee0e",
   "metadata": {},
   "outputs": [],
   "source": [
    "click_rent_option = driver.find_element(By.XPATH,'/html/body/div/div/div[1]/div/div/div[1]/div[2]/div[7]/a/span')\n",
    "click_rent_option.click()"
   ]
  },
  {
   "cell_type": "code",
   "execution_count": 6,
   "id": "7dd200db",
   "metadata": {},
   "outputs": [],
   "source": [
    "city_links = []\n",
    "url_elements = driver.find_elements(By.XPATH, '//a[@class=\"_1HnJ6 _2OYDZ _2L7t8\"]')\n",
    "\n",
    "for element in url_elements:\n",
    "    city_links.append(element.get_attribute('href'))"
   ]
  },
  {
   "cell_type": "code",
   "execution_count": 7,
   "id": "df3a8ba3",
   "metadata": {},
   "outputs": [
    {
     "data": {
      "text/plain": [
       "20"
      ]
     },
     "execution_count": 7,
     "metadata": {},
     "output_type": "execute_result"
    }
   ],
   "source": [
    "len(city_links)"
   ]
  },
  {
   "cell_type": "code",
   "execution_count": 8,
   "id": "52d1dd38",
   "metadata": {},
   "outputs": [
    {
     "data": {
      "text/plain": [
       "['https://www.olx.in/kerala_g2001160/for-rent-houses-apartments_c1723',\n",
       " 'https://www.olx.in/maharashtra_g2001163/for-rent-houses-apartments_c1723',\n",
       " 'https://www.olx.in/uttar-pradesh_g2001176/for-rent-houses-apartments_c1723',\n",
       " 'https://www.olx.in/tamil-nadu_g2001173/for-rent-houses-apartments_c1723',\n",
       " 'https://www.olx.in/punjab_g2001170/for-rent-houses-apartments_c1723',\n",
       " 'https://www.olx.in/gujarat_g2001154/for-rent-houses-apartments_c1723',\n",
       " 'https://www.olx.in/karnataka_g2001159/for-rent-houses-apartments_c1723',\n",
       " 'https://www.olx.in/madhya-pradesh_g2001162/for-rent-houses-apartments_c1723',\n",
       " 'https://www.olx.in/delhi_g2001152/for-rent-houses-apartments_c1723',\n",
       " 'https://www.olx.in/rajasthan_g2001171/for-rent-houses-apartments_c1723',\n",
       " 'https://www.olx.in/haryana_g2001155/for-rent-houses-apartments_c1723',\n",
       " 'https://www.olx.in/west-bengal_g2001177/for-rent-houses-apartments_c1723',\n",
       " 'https://www.olx.in/andhra-pradesh_g2001145/for-rent-houses-apartments_c1723',\n",
       " 'https://www.olx.in/odisha_g2001168/for-rent-houses-apartments_c1723',\n",
       " 'https://www.olx.in/telangana_g2007599/for-rent-houses-apartments_c1723',\n",
       " 'https://www.olx.in/assam_g2001147/for-rent-houses-apartments_c1723',\n",
       " 'https://www.olx.in/uttaranchal_g2001175/for-rent-houses-apartments_c1723',\n",
       " 'https://www.olx.in/bihar_g2001148/for-rent-houses-apartments_c1723',\n",
       " 'https://www.olx.in/jharkhand_g2001158/for-rent-houses-apartments_c1723',\n",
       " 'https://www.olx.in/chhattisgarh_g2001178/for-rent-houses-apartments_c1723']"
      ]
     },
     "execution_count": 8,
     "metadata": {},
     "output_type": "execute_result"
    }
   ],
   "source": [
    "city_links"
   ]
  },
  {
   "cell_type": "code",
   "execution_count": 9,
   "id": "fb8809eb",
   "metadata": {},
   "outputs": [],
   "source": [
    "property_urls = []"
   ]
  },
  {
   "cell_type": "code",
   "execution_count": null,
   "id": "aa62d5f0",
   "metadata": {},
   "outputs": [],
   "source": [
    "# Iterate through each city link\n",
    "for city_link in city_links:\n",
    "    try:\n",
    "        # Navigate to the city page\n",
    "        driver.get(city_link)\n",
    "        time.sleep(2)  # Wait for the page to load\n",
    "\n",
    "        # Iterate through multiple pages of search results\n",
    "        for page_num in range(1, 20):\n",
    "            # Extract links to individual property listings\n",
    "            property_elements = driver.find_elements(By.XPATH, '//li[@class=\"_1DNjI\"]//a')\n",
    "            for property_element in property_elements:\n",
    "                property_url = property_element.get_attribute('href')\n",
    "                property_urls.append(property_url)\n",
    "\n",
    "            # Click the next page button\n",
    "            try:\n",
    "                next_button = driver.find_element(By.XPATH, '/html/body/div/div/main/div/div/section/div/div/div[5]/div[2]/div/div[2]/ul/li[42]/div/button')\n",
    "                next_button.click()\n",
    "                time.sleep(2)  # Wait for the next page to load\n",
    "            except:\n",
    "                break\n",
    "\n",
    "    except Exception as e:\n",
    "        print(\"Error occurred:\", e)\n",
    "        continue\n"
   ]
  },
  {
   "cell_type": "code",
   "execution_count": null,
   "id": "d937bad7",
   "metadata": {},
   "outputs": [],
   "source": [
    "print(\"Total property URLs collected:\", len(property_urls))"
   ]
  },
  {
   "cell_type": "code",
   "execution_count": null,
   "id": "5dd095eb",
   "metadata": {},
   "outputs": [],
   "source": [
    "property_urls"
   ]
  },
  {
   "cell_type": "code",
   "execution_count": null,
   "id": "e75a0936",
   "metadata": {},
   "outputs": [],
   "source": [
    "driver.quit()"
   ]
  },
  {
   "cell_type": "code",
   "execution_count": null,
   "id": "d63d9c72",
   "metadata": {},
   "outputs": [],
   "source": [
    "driver = webdriver.Chrome()"
   ]
  },
  {
   "cell_type": "code",
   "execution_count": null,
   "id": "2ff7d2a1",
   "metadata": {},
   "outputs": [],
   "source": [
    "driver.get(\"https://www.olx.in/\")click_rent_option = driver.find_element(By.XPATH,'/html/body/div/div/div[1]/div/div/div[1]/div[2]/div[7]/a/span')\n",
    "click_rent_option.click()"
   ]
  },
  {
   "cell_type": "code",
   "execution_count": null,
   "id": "7d86ec3d",
   "metadata": {},
   "outputs": [],
   "source": [
    "name =[]\n",
    "price = []\n",
    "city =[]\n",
    "Address = []\n",
    "Bedrooms = []\n",
    "Bathrooms = []\n",
    "carpet_area = []\n",
    "total_floors = []\n",
    "car_parking = []\n",
    "floor_no = []\n",
    "bachelors_allowed = []\n",
    "super_builtup_area = []\n",
    "furnishing = []\n",
    "type_ = []\n",
    "facing = []"
   ]
  },
  {
   "cell_type": "code",
   "execution_count": null,
   "id": "886d7f1e",
   "metadata": {},
   "outputs": [],
   "source": [
    "for url in property_urls:\n",
    "    driver.get(url)\n",
    "    time.sleep(2)\n",
    "    \n",
    "    try:\n",
    "        prop_name_element = driver.find_element(By.XPATH, '/html/body/div/div/main/div/div/div/div[5]/div[1]/div/section/h1')\n",
    "        name.append(prop_name_element.text)\n",
    "    except NoSuchElementException:\n",
    "        name.append('not present')\n",
    "\n",
    "    try:\n",
    "        price_element = driver.find_element(By.XPATH, '/html/body/div/div/main/div/div/div/div[5]/div[1]/div/section/span[1]')\n",
    "        price.append(price_element.text)\n",
    "    except NoSuchElementException:\n",
    "        price.append('not present')\n",
    "        \n",
    "    try:\n",
    "        prop_city_element = driver.find_element(By.XPATH, '/html/body/div/div/header/div/div/div[2]/div/div/div[1]/div/div[1]/input')\n",
    "        city.append(prop_city_element.get_attribute('value'))\n",
    "    except NoSuchElementException:\n",
    "        city.append('not present')\n",
    "    \n",
    "    try:\n",
    "        prop_Address_element = driver.find_element(By.XPATH, '/html/body/div/div/main/div/div/div/div[5]/div[1]/div/section/div/div[1]/div/span')\n",
    "        Address.append(prop_Address_element.text)\n",
    "    except NoSuchElementException:\n",
    "        Address.append('not present')\n",
    "    \n",
    "    try:\n",
    "        bed_element = driver.find_element(By.XPATH, '/html/body/div/div/main/div/div/div/div[4]/section/div/div/div[1]/div/div[3]/div/span[2]')\n",
    "        Bedrooms.append(bed_element.text)\n",
    "    except NoSuchElementException:\n",
    "        Bedrooms.append('not present')\n",
    "\n",
    "    try:\n",
    "        bathroom_element = driver.find_element(By.XPATH, '/html/body/div/div/main/div/div/div/div[4]/section/div/div/div[1]/div/div[2]/div/span[2]')\n",
    "        Bathrooms.append(bathroom_element.text)\n",
    "    except NoSuchElementException:\n",
    "        Bathrooms.append('not present')\n",
    "\n",
    "    try:\n",
    "        area_element = driver.find_element(By.XPATH, '/html/body/div/div/main/div/div/div/div[4]/section/div/div/div[1]/div/div[7]/div/span[2]')\n",
    "        carpet_area.append(area_element.text)\n",
    "    except NoSuchElementException:\n",
    "        carpet_area.append('not present')\n",
    "\n",
    "    try:\n",
    "        floors_element = driver.find_element(By.XPATH, '/html/body/div[1]/div/main/div/div/div/div[4]/section/div/div/div[1]/div/div[10]/div/span[2]')\n",
    "        total_floors.append(floors_element.text)\n",
    "    except NoSuchElementException:\n",
    "        total_floors.append('not present')\n",
    "\n",
    "    try:\n",
    "        parking_element = driver.find_element(By.XPATH, '/html/body/div[1]/div/main/div/div/div/div[4]/section/div/div/div[1]/div/div[12]/div/span[2]')\n",
    "        car_parking.append(parking_element.text)\n",
    "    except NoSuchElementException:\n",
    "        car_parking.append('not present')\n",
    "\n",
    "    try:\n",
    "        floor_element = driver.find_element(By.XPATH, '/html/body/div/div/main/div/div/div/div[4]/section/div/div/div[1]/div/div[11]/div/span[2]')\n",
    "        floor_no.append(floor_element.text)\n",
    "    except NoSuchElementException:\n",
    "        floor_no.append('not present')\n",
    "\n",
    "    try:\n",
    "        bachelors_element = driver.find_element(By.XPATH, '/html/body/div/div/main/div/div/div/div[4]/section/div/div/div[1]/div/div[8]/div/span[2]')\n",
    "        bachelors_allowed.append(bachelors_element.text)\n",
    "    except NoSuchElementException:\n",
    "        bachelors_allowed.append('not present')\n",
    "\n",
    "    try:\n",
    "        super_area_element = driver.find_element(By.XPATH, '/html/body/div[1]/div/main/div/div/div/div[4]/section/div/div/div[1]/div/div[6]/div/span[2]')\n",
    "        super_builtup_area.append(super_area_element.text)\n",
    "    except NoSuchElementException:\n",
    "        super_builtup_area.append('not present')\n",
    "\n",
    "    try:\n",
    "        furn_element = driver.find_element(By.XPATH, '/html/body/div[1]/div/main/div/div/div/div[4]/section/div/div/div[1]/div/div[4]/div/span[2]')\n",
    "        furnishing.append(furn_element.text)\n",
    "    except NoSuchElementException:\n",
    "        furnishing.append('not present')\n",
    "\n",
    "    try:\n",
    "        property_type_element = driver.find_element(By.XPATH, '/html/body/div[1]/div/main/div/div/div/div[4]/section/div/div/div[1]/div/div[1]/div/span[2]')\n",
    "        type_.append(property_type_element.text)\n",
    "    except NoSuchElementException:\n",
    "        type_.append('not present')\n",
    "\n",
    "    try:\n",
    "        facing_element = driver.find_element(By.XPATH, '/html/body/div/div/main/div/div/div/div[4]/section/div/div/div[1]/div/div[13]/div/span[2]')\n",
    "        facing.append(facing_element.text)\n",
    "    except NoSuchElementException:\n",
    "        facing.append('not present')\n",
    "        \n",
    "    except WebDriverException as e:\n",
    "        print(f\"WebDriverException occurred: {e}\")\n",
    "        print(\"Attempting to re-establish WebDriver session...\")\n",
    "        driver.quit()\n",
    "        driver = webdriver.Chrome()  # Re-initialize the WebDriver instance\n",
    "        continue"
   ]
  },
  {
   "cell_type": "code",
   "execution_count": null,
   "id": "bb3b36b7",
   "metadata": {},
   "outputs": [],
   "source": [
    "len(name),len(price),len(city),len(Bedrooms),len(Bathrooms),len(carpet_area),len(total_floors),len(car_parking),len(floor_no),len(bachelors_allowed),len(super_builtup_area),len(furnishing),len(type_),len(facing),len(Address)"
   ]
  },
  {
   "cell_type": "code",
   "execution_count": null,
   "id": "652aa50f",
   "metadata": {},
   "outputs": [],
   "source": [
    "data = {\n",
    "    'Name': name,\n",
    "    'Price': price,\n",
    "    'City': city,\n",
    "    'Address': Address,\n",
    "    'Bedrooms': Bedrooms,\n",
    "    'Bathrooms': Bathrooms,\n",
    "    'Carpet_Area': carpet_area,\n",
    "    'Total_Floors': total_floors,\n",
    "    'Car_Parking': car_parking,\n",
    "    'Floor_No': floor_no,\n",
    "    'Bachelors_Allowed': bachelors_allowed,\n",
    "    'Super_Builtup_Area': super_builtup_area,\n",
    "    'Furnishing': furnishing,\n",
    "    'Type': type_,\n",
    "    'Facing': facing}"
   ]
  },
  {
   "cell_type": "code",
   "execution_count": null,
   "id": "6c8eef8f",
   "metadata": {},
   "outputs": [],
   "source": [
    "df = pd.DataFrame(data)"
   ]
  },
  {
   "cell_type": "code",
   "execution_count": null,
   "id": "e78cb971",
   "metadata": {},
   "outputs": [],
   "source": [
    "df"
   ]
  },
  {
   "cell_type": "code",
   "execution_count": null,
   "id": "2d1d4889",
   "metadata": {},
   "outputs": [],
   "source": []
  },
  {
   "cell_type": "code",
   "execution_count": null,
   "id": "99748aff",
   "metadata": {},
   "outputs": [],
   "source": []
  },
  {
   "cell_type": "code",
   "execution_count": null,
   "id": "e0548d85",
   "metadata": {},
   "outputs": [],
   "source": []
  },
  {
   "cell_type": "code",
   "execution_count": null,
   "id": "bc27a5bf",
   "metadata": {},
   "outputs": [],
   "source": []
  },
  {
   "cell_type": "code",
   "execution_count": null,
   "id": "717fefc2",
   "metadata": {},
   "outputs": [],
   "source": []
  }
 ],
 "metadata": {
  "kernelspec": {
   "display_name": "Python 3 (ipykernel)",
   "language": "python",
   "name": "python3"
  },
  "language_info": {
   "codemirror_mode": {
    "name": "ipython",
    "version": 3
   },
   "file_extension": ".py",
   "mimetype": "text/x-python",
   "name": "python",
   "nbconvert_exporter": "python",
   "pygments_lexer": "ipython3",
   "version": "3.9.13"
  }
 },
 "nbformat": 4,
 "nbformat_minor": 5
}
